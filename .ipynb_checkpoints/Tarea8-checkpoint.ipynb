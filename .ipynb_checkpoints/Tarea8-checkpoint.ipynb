{
 "cells": [
  {
   "cell_type": "markdown",
   "metadata": {},
   "source": [
    "<img style=\"float: left; margin: 30px 15px 15px 15px;\" src=\"https://pngimage.net/wp-content/uploads/2018/06/logo-iteso-png-5.png\" width=\"300\" height=\"500\" /> \n",
    "    \n",
    "    \n",
    "### <font color='navy'> Simulación de procesos financieros. \n",
    "\n",
    "**Nombres:** Estudiante 1: Julio Olaf Gonzalez Guzman y Estudiante 2: Alejandro Michel Marrón\n",
    "**Fecha:** 22 de octubre del 2020.\n",
    "\n",
    "**Expediente** : IF714007\n",
    "**Expediente 2** : IF719889\n",
    "\n",
    "    \n",
    "**Profesor:** Oscar David Jaramillo Zuluaga.\n",
    "    \n",
    "Github : https://github.com/HKael/Tareas_JulioGlz_Alejandro\n",
    "\n",
    "# Tarea 8: Clase 16\n"
   ]
  },
  {
   "cell_type": "markdown",
   "metadata": {},
   "source": [
    "### Link repositorio \n",
    "> **Hint**: Explore the command `Repositorio` [link](https://github.com/Julio99olaf/Tareas_JulioGlz_Alejandro)"
   ]
  },
  {
   "cell_type": "code",
   "execution_count": 1,
   "metadata": {},
   "outputs": [
    {
     "data": {
      "text/html": [
       "<img src=\"https://i.imgur.com/zngYHwb.png\"/>"
      ],
      "text/plain": [
       "<IPython.core.display.Image object>"
      ]
     },
     "execution_count": 1,
     "metadata": {},
     "output_type": "execute_result"
    }
   ],
   "source": [
    "from IPython.display import Image\n",
    "from IPython.core.display import HTML \n",
    "Image(url= \"https://i.imgur.com/zngYHwb.png\")"
   ]
  },
  {
   "cell_type": "markdown",
   "metadata": {},
   "source": [
    "## Solución estudiante 1"
   ]
  },
  {
   "cell_type": "code",
   "execution_count": 2,
   "metadata": {},
   "outputs": [],
   "source": [
    "import numpy as np\n",
    "from functools import reduce\n",
    "import time\n",
    "import matplotlib.pyplot as plt\n",
    "import scipy.stats as st     # Librería estadística\n",
    "import pandas as pd\n",
    "from scipy import optimize"
   ]
  },
  {
   "cell_type": "code",
   "execution_count": 3,
   "metadata": {},
   "outputs": [],
   "source": [
    "f_x = lambda x: 1/x**2 if x>=1 else 0\n"
   ]
  },
  {
   "cell_type": "markdown",
   "metadata": {},
   "source": [
    " # a) Montecarlo"
   ]
  },
  {
   "cell_type": "code",
   "execution_count": 4,
   "metadata": {},
   "outputs": [
    {
     "data": {
      "text/plain": [
       "2.38876340033249"
      ]
     },
     "execution_count": 4,
     "metadata": {},
     "output_type": "execute_result"
    }
   ],
   "source": [
    "fx =lambda x: 1/x**2\n",
    "# Integral de 1 a x\n",
    "# Fx = 1 - 1/x\n",
    "# U = 1 - 1/x\n",
    "f_inv = lambda u: 1/(1-u)\n",
    "\n",
    "N=100\n",
    "u=np.random.uniform(0,0.9,N)\n",
    "M_c=f_inv(u).mean()\n",
    "M_c\n"
   ]
  },
  {
   "cell_type": "code",
   "execution_count": 70,
   "metadata": {},
   "outputs": [
    {
     "data": {
      "image/png": "[encoded data removed]",
      "text/plain": [
       "<Figure size 432x288 with 1 Axes>"
      ]
     },
     "metadata": {
      "needs_background": "light"
     },
     "output_type": "display_data"
    }
   ],
   "source": [
    "x = np.arange(1,10,0.01)\n",
    "plt.plot(x,1/(x*x))\n",
    "plt.hist(f_inv(u), bins=20, density=True)\n",
    "plt.ylim(0,1)\n",
    "plt.xlim(0,10)\n",
    "plt.show()"
   ]
  },
  {
   "cell_type": "markdown",
   "metadata": {},
   "source": [
    "# b) Muestreo estratificado"
   ]
  },
  {
   "cell_type": "code",
   "execution_count": 6,
   "metadata": {},
   "outputs": [],
   "source": [
    "def estra_igualmente_espaciado(B):\n",
    "    U2 = np.random.rand(B)\n",
    "    i = np.arange(0,B)\n",
    "    estra = (U2+i)/B\n",
    "    return estra"
   ]
  },
  {
   "cell_type": "code",
   "execution_count": 7,
   "metadata": {},
   "outputs": [
    {
     "data": {
      "text/plain": [
       "5.086278528399876"
      ]
     },
     "execution_count": 7,
     "metadata": {},
     "output_type": "execute_result"
    }
   ],
   "source": [
    "np.random.seed(100)\n",
    "r1 = np.random.uniform(0,0.6,3)\n",
    "r2 = np.random.uniform(0.6,0.9,3)\n",
    "r3 = np.random.uniform(0.9,1,4)\n",
    "r  = [r1,r2,r3]\n",
    "m  = range(len(r))  # Cantidad de estratos\n",
    "w  = [1/2,1,4]\n",
    "xi = list(map(f_inv,r))\n",
    "muestras = list(map(lambda wi,xi:xi/wi,w,xi))\n",
    "\n",
    "muestras = np.concatenate(muestras)\n",
    "Muestras=muestras.mean()\n",
    "Muestras"
   ]
  },
  {
   "cell_type": "markdown",
   "metadata": {},
   "source": [
    "# c) Estratificado 2"
   ]
  },
  {
   "cell_type": "code",
   "execution_count": 8,
   "metadata": {},
   "outputs": [
    {
     "data": {
      "text/plain": [
       "4.537114417948088"
      ]
     },
     "execution_count": 8,
     "metadata": {},
     "output_type": "execute_result"
    }
   ],
   "source": [
    "np.random.seed(100)\n",
    "u = estra_igualmente_espaciado(10)\n",
    "f_inv(u).mean()"
   ]
  },
  {
   "cell_type": "markdown",
   "metadata": {},
   "source": [
    "# d) complementario"
   ]
  },
  {
   "cell_type": "code",
   "execution_count": 9,
   "metadata": {},
   "outputs": [
    {
     "name": "stdout",
     "output_type": "stream",
     "text": [
      "Media de observaciones complementarias  =  1.5424155451842763\n"
     ]
    }
   ],
   "source": [
    "\n",
    "ri = -u\n",
    "xi2 = f_inv(ri).mean()\n",
    "m_estimada = (M_c+xi2)/2\n",
    "print('Media de observaciones complementarias  = ',m_estimada)"
   ]
  },
  {
   "cell_type": "markdown",
   "metadata": {},
   "source": [
    "## Solución estudiante 2 - Alejandro Michel"
   ]
  },
  {
   "cell_type": "markdown",
   "metadata": {},
   "source": [
    "$f(x) = \\begin{cases}\\frac{1}{x^{2}}, &1\\leq x \\\\ 0,& x < 1 \\end{cases}$\n",
    "\n",
    "Valor esperado de $f(x)$ : \n",
    "$$E[x] = \\int_{-\\infty}^{-\\infty} x f(x) dx = \\int_{1}^{\\infty} x \\frac{1}{x^{2}}dx = \\int_{1}^{\\infty} \\frac{1}{x} dx = \\ln{x} \\Big|_{1}^{\\infty} = \\infty - 0 = \\infty $$\n",
    "\n",
    "La función de distribución acumulada sería:\n",
    "$$F(x) =  \\int_{-\\infty}^{x} f(x) dx = \\int_{1}^{x} \\frac{1}{x^{2}} dx = -\\frac{1}{x} \\Big|_{1}^{x} = \\frac{-1}{x} + 1 $$\n",
    "\n",
    "Método de la transformada inversa:\n",
    "$$y = \\frac{-1}{x} + 1 $$ \n",
    "$$1 - y = \\frac{1}{x} $$\n",
    "$$ x = \\frac{1}{1 - y}$$\n",
    "\n",
    "Que está definida de la siguiente forma  $0 < y < 1$ "
   ]
  },
  {
   "cell_type": "markdown",
   "metadata": {},
   "source": [
    " # a) Montecarlo"
   ]
  },
  {
   "cell_type": "code",
   "execution_count": 43,
   "metadata": {},
   "outputs": [
    {
     "name": "stdout",
     "output_type": "stream",
     "text": [
      "Media = 10.02711598541453\n"
     ]
    }
   ],
   "source": [
    "np.random.seed(420)\n",
    "# Funciones\n",
    "xi = lambda u: 1 / (1- u) \n",
    "f = lambda x: 1 / (x** 2) \n",
    "\n",
    "# Usando montecarlo crudo\n",
    "N = 100\n",
    "u1 = np.random.rand(N)\n",
    "mean_crude = np.mean(list(map(xi,u1)))\n",
    "print('Media =' ,mean_crude )"
   ]
  },
  {
   "cell_type": "code",
   "execution_count": 76,
   "metadata": {},
   "outputs": [
    {
     "data": {
      "image/png": "[encoded data removed]",
      "text/plain": [
       "<Figure size 432x288 with 1 Axes>"
      ]
     },
     "metadata": {
      "needs_background": "light"
     },
     "output_type": "display_data"
    }
   ],
   "source": [
    "#plot\n",
    "x = np.arange(-1,11,0.01)\n",
    "plt.plot(x,list(map(f,x)), color = \"red\")\n",
    "plt.hist(xi(u), bins= 35, density = True, color = \"b\", histtype = 'bar')\n",
    "plt.ylim(0,1)\n",
    "plt.xlim(0,10)\n",
    "plt.show()"
   ]
  },
  {
   "cell_type": "markdown",
   "metadata": {},
   "source": [
    "# b) Muestreo estratificado"
   ]
  },
  {
   "cell_type": "code",
   "execution_count": 77,
   "metadata": {},
   "outputs": [
    {
     "name": "stdout",
     "output_type": "stream",
     "text": [
      "Media = 4.16832312701228\n"
     ]
    }
   ],
   "source": [
    "np.random.seed(420)\n",
    "\n",
    "r1 = np.random.uniform(0,0.6,3)\n",
    "r2 = np.random.uniform(0.6,0.9,3)\n",
    "r3 = np.random.uniform(0.9,1,4)\n",
    "r  = [r1,r2,r3]\n",
    "\n",
    "#Estratos y ponderación\n",
    "m  = range(len(r)) \n",
    "w  = [1/2,1,4]\n",
    "\n",
    "#Funciones\n",
    "estrat1 = list(map(lambda r:np.array(list(map(xi, r))), r))\n",
    "muestras2 = list(map(lambda wi,xi:xi/wi, w, estrat1))\n",
    "\n",
    "print('Media =',np.concatenate(muestras2).mean())"
   ]
  },
  {
   "cell_type": "markdown",
   "metadata": {},
   "source": [
    "# c) Estratificado 2"
   ]
  },
  {
   "cell_type": "code",
   "execution_count": 78,
   "metadata": {},
   "outputs": [
    {
     "data": {
      "text/plain": [
       "4.753189892641454"
      ]
     },
     "execution_count": 78,
     "metadata": {},
     "output_type": "execute_result"
    }
   ],
   "source": [
    "def estra_igualmente_espaciado(B):\n",
    "    U2 = np.random.rand(B)\n",
    "    i = np.arange(0, B)\n",
    "    estra = (U2 + i)/ B\n",
    "    return estra\n",
    "\n",
    "np.random.seed(420)\n",
    "\n",
    "u = estra_igualmente_espaciado(10)\n",
    "xi(u).mean()"
   ]
  },
  {
   "cell_type": "markdown",
   "metadata": {},
   "source": [
    "# d) complementario"
   ]
  },
  {
   "cell_type": "code",
   "execution_count": 79,
   "metadata": {},
   "outputs": [
    {
     "name": "stdout",
     "output_type": "stream",
     "text": [
      "Estimacíon de la media = 11.99061972456058\n"
     ]
    }
   ],
   "source": [
    "np.random.seed(420)\n",
    "\n",
    "\n",
    "mean_aux = np.mean(list(map(xi, 1 - u1)))\n",
    "mean_comp = (mean_crude + mean_aux)/ 2\n",
    "print('Estimacíon de la media =', mean_comp)"
   ]
  }
 ],
 "metadata": {
  "kernelspec": {
   "display_name": "Python 3",
   "language": "python",
   "name": "python3"
  },
  "language_info": {
   "codemirror_mode": {
    "name": "ipython",
    "version": 3
   },
   "file_extension": ".py",
   "mimetype": "text/x-python",
   "name": "python",
   "nbconvert_exporter": "python",
   "pygments_lexer": "ipython3",
   "version": "3.7.7"
  }
 },
 "nbformat": 4,
 "nbformat_minor": 2
}
