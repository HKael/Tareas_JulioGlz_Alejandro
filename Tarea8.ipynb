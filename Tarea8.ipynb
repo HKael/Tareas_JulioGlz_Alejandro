{
 "cells": [
  {
   "cell_type": "markdown",
   "metadata": {},
   "source": [
    "<img style=\"float: left; margin: 30px 15px 15px 15px;\" src=\"https://pngimage.net/wp-content/uploads/2018/06/logo-iteso-png-5.png\" width=\"300\" height=\"500\" /> \n",
    "    \n",
    "    \n",
    "### <font color='navy'> Simulación de procesos financieros. \n",
    "\n",
    "**Nombres:** Estudiante 1:Julio Olaf Gonzalez Guzman y Estudiante 2: \n",
    "**Fecha:** 22 de octubre del 2020.\n",
    "\n",
    "**Expediente** : IF714007\n",
    "**Expediente 2** : \n",
    "\n",
    "    \n",
    "**Profesor:** Oscar David Jaramillo Zuluaga.\n",
    "\n",
    "# Tarea 7: Clase14_MetodosDeReduccionDeVarianza\n"
   ]
  },
  {
   "cell_type": "markdown",
   "metadata": {},
   "source": [
    "### Link repositorio \n",
    "> **Hint**: Explore the command `Repositorio` [link](https://github.com/Julio99olaf/Tareas_JulioGlz_Alejandro)"
   ]
  },
  {
   "cell_type": "code",
   "execution_count": 34,
   "metadata": {},
   "outputs": [
    {
     "name": "stderr",
     "output_type": "stream",
     "text": [
      "\"[image.png]\" no se reconoce como un comando interno o externo,\n",
      "programa o archivo por lotes ejecutable.\n"
     ]
    }
   ],
   "source": [
    "# Ejercicio \n",
    "![image.png](attachment:image.png)"
   ]
  },
  {
   "cell_type": "markdown",
   "metadata": {},
   "source": [
    "## Solución estudiante 1"
   ]
  },
  {
   "cell_type": "code",
   "execution_count": null,
   "metadata": {},
   "outputs": [],
   "source": [
    "import numpy as np\n",
    "from functools import reduce\n",
    "import time\n",
    "import matplotlib.pyplot as plt\n",
    "import scipy.stats as st     # Librería estadística\n",
    "import pandas as pd\n",
    "from scipy import optimize"
   ]
  },
  {
   "cell_type": "code",
   "execution_count": 35,
   "metadata": {},
   "outputs": [],
   "source": [
    "f_x = lambda x: 1/x**2 if x>=1 else 0\n"
   ]
  },
  {
   "cell_type": "markdown",
   "metadata": {},
   "source": [
    " # a) Montecarlo"
   ]
  },
  {
   "cell_type": "code",
   "execution_count": 56,
   "metadata": {},
   "outputs": [
    {
     "data": {
      "text/plain": [
       "2.696275962331324"
      ]
     },
     "execution_count": 56,
     "metadata": {},
     "output_type": "execute_result"
    }
   ],
   "source": [
    "fx =lambda x: 1/x**2\n",
    "# Integral de 1 a x\n",
    "# Fx = 1 - 1/x\n",
    "# U = 1 - 1/x\n",
    "f_inv = lambda u: 1/(1-u)\n",
    "\n",
    "N=100\n",
    "u=np.random.uniform(0,0.9,N)\n",
    "M_c=f_inv(u).mean()\n",
    "M_c\n"
   ]
  },
  {
   "cell_type": "code",
   "execution_count": 58,
   "metadata": {},
   "outputs": [
    {
     "data": {
      "image/png": "[encoded data removed]",
      "text/plain": [
       "<Figure size 432x288 with 1 Axes>"
      ]
     },
     "metadata": {
      "needs_background": "light"
     },
     "output_type": "display_data"
    }
   ],
   "source": [
    "x = np.arange(1,10,0.01)\n",
    "plt.plot(x,1/(x*x))\n",
    "plt.hist(f_inv(u), bins=20, density=True)\n",
    "plt.ylim(0,1)\n",
    "plt.xlim(0,10)\n",
    "plt.show()"
   ]
  },
  {
   "cell_type": "markdown",
   "metadata": {},
   "source": [
    "# b) Muestreo estratificado"
   ]
  },
  {
   "cell_type": "code",
   "execution_count": 38,
   "metadata": {},
   "outputs": [],
   "source": [
    "def estra_igualmente_espaciado(B):\n",
    "    U2 = np.random.rand(B)\n",
    "    i = np.arange(0,B)\n",
    "    estra = (U2+i)/B\n",
    "    return estra"
   ]
  },
  {
   "cell_type": "code",
   "execution_count": 39,
   "metadata": {},
   "outputs": [
    {
     "data": {
      "text/plain": [
       "5.086278528399876"
      ]
     },
     "execution_count": 39,
     "metadata": {},
     "output_type": "execute_result"
    }
   ],
   "source": [
    "np.random.seed(100)\n",
    "r1 = np.random.uniform(0,0.6,3)\n",
    "r2 = np.random.uniform(0.6,0.9,3)\n",
    "r3 = np.random.uniform(0.9,1,4)\n",
    "r  = [r1,r2,r3]\n",
    "m  = range(len(r))  # Cantidad de estratos\n",
    "w  = [1/2,1,4]\n",
    "xi = list(map(f_inv,r))\n",
    "muestras = list(map(lambda wi,xi:xi/wi,w,xi))\n",
    "\n",
    "muestras = np.concatenate(muestras)\n",
    "Muestras=muestras.mean()\n",
    "Muestras"
   ]
  },
  {
   "cell_type": "markdown",
   "metadata": {},
   "source": [
    "# c) Estratificado 2"
   ]
  },
  {
   "cell_type": "code",
   "execution_count": 40,
   "metadata": {},
   "outputs": [
    {
     "data": {
      "text/plain": [
       "4.537114417948088"
      ]
     },
     "execution_count": 40,
     "metadata": {},
     "output_type": "execute_result"
    }
   ],
   "source": [
    "np.random.seed(100)\n",
    "u = estra_igualmente_espaciado(10)\n",
    "f_inv(u).mean()"
   ]
  },
  {
   "cell_type": "markdown",
   "metadata": {},
   "source": [
    "# d) complementario"
   ]
  },
  {
   "cell_type": "code",
   "execution_count": 41,
   "metadata": {},
   "outputs": [
    {
     "name": "stdout",
     "output_type": "stream",
     "text": [
      "Media de observaciones complementarias  =  3.265849085559959\n"
     ]
    }
   ],
   "source": [
    "\n",
    "ri = -u\n",
    "xi2 = f_inv(ri).mean()\n",
    "m_estimada = (M_c+xi2)/2\n",
    "print('Media de observaciones complementarias  = ',m_estimada)"
   ]
  },
  {
   "cell_type": "markdown",
   "metadata": {},
   "source": [
    "## Solución estudiante 2"
   ]
  },
  {
   "cell_type": "code",
   "execution_count": null,
   "metadata": {},
   "outputs": [],
   "source": []
  }
 ],
 "metadata": {
  "kernelspec": {
   "display_name": "Python 3",
   "language": "python",
   "name": "python3"
  },
  "language_info": {
   "codemirror_mode": {
    "name": "ipython",
    "version": 3
   },
   "file_extension": ".py",
   "mimetype": "text/x-python",
   "name": "python",
   "nbconvert_exporter": "python",
   "pygments_lexer": "ipython3",
   "version": "3.7.4"
  }
 },
 "nbformat": 4,
 "nbformat_minor": 2
}
